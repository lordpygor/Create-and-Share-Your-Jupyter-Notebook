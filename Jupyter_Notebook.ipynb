{
  "metadata": {
    "kernelspec": {
      "name": "python",
      "display_name": "Pyolite",
      "language": "python"
    },
    "language_info": {
      "codemirror_mode": {
        "name": "python",
        "version": 3
      },
      "file_extension": ".py",
      "mimetype": "text/x-python",
      "name": "python",
      "nbconvert_exporter": "python",
      "pygments_lexer": "ipython3",
      "version": "3.8"
    }
  },
  "nbformat_minor": 4,
  "nbformat": 4,
  "cells": [
    {
      "cell_type": "markdown",
      "source": "<center>\n    <img src=\"https://s3-api.us-geo.objectstorage.softlayer.net/cf-courses-data/CognitiveClass/Logos/organization_logo/organization_logo.png\" width=\"300\" alt=\"cognitiveclass.ai logo\"  />\n</center>\n",
      "metadata": {}
    },
    {
      "cell_type": "markdown",
      "source": "#### Add your code below following the instructions given in the course\n",
      "metadata": {}
    },
    {
      "cell_type": "markdown",
      "source": "My Jupyter Notebook on IBM Watson Studio",
      "metadata": {}
    },
    {
      "cell_type": "markdown",
      "source": "**Name: Darrell Samuel Alex**\n<br>Current Occupation: GIS Executive\n<br>Desired Occupation: Data Scientist",
      "metadata": {}
    },
    {
      "cell_type": "markdown",
      "source": "*I am interested in data science because I enjoyed problem solving.*",
      "metadata": {}
    },
    {
      "cell_type": "markdown",
      "source": "### Cell 5 will show one of the basic operation of arithmetic",
      "metadata": {}
    },
    {
      "cell_type": "code",
      "source": "1+1",
      "metadata": {
        "trusted": true
      },
      "execution_count": 5,
      "outputs": [
        {
          "execution_count": 5,
          "output_type": "execute_result",
          "data": {
            "text/plain": "2"
          },
          "metadata": {}
        }
      ]
    },
    {
      "cell_type": "markdown",
      "source": "Three or more...\n\n---\n\nHyphens\n\n***\n\nAsterisks\n\n___\n\nUnderscores\n\n* This is a  Bulleted list\n1. This is a numbered list\n| Name        | Age           | Occupation  |\n| ----------- |:-------------:| -----------:|\n| Hamilton    | 40            | Engineer    |\n| Sam         | 50            | Engineer    |\n| William     | 59            | Manager     |\n\n[Markdown in Jupyter Notebook tutorial](https://www.datacamp.com/tutorial/markdown-in-jupyter-notebook)\n\n<img src=\"https://media.giphy.com/media/El9JKansAx2bdrfW6j/giphy.gif\" alt=\"American Football\" title=\"American Football\" />\n\nThis is a `code`.\n\n```python\ns = \"Python syntax highlighting\"\nprint s\n```\n\n> This line is part of a blockquotes\n\nQuote break.\n\n> Another line of blockquotes\n\n~~Scratch this~~",
      "metadata": {}
    },
    {
      "cell_type": "code",
      "source": "",
      "metadata": {},
      "execution_count": null,
      "outputs": []
    }
  ]
}